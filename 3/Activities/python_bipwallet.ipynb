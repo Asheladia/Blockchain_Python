{
 "cells": [
  {
   "cell_type": "code",
   "execution_count": 15,
   "metadata": {},
   "outputs": [
    {
     "name": "stdout",
     "output_type": "stream",
     "text": [
      "smart quality can unlock toe anchor gather above monitor calm apart custom\n"
     ]
    },
    {
     "data": {
      "text/plain": [
       "{'coin': 'BTC',\n",
       " 'seed': 'smart quality can unlock toe anchor gather above monitor calm apart custom',\n",
       " 'private_key': 'a72dd1389bcea6dc7ba64ca64c765375628f8b21863fd124d61733caef51412d',\n",
       " 'public_key': '042d2dcd3a41d883a92f81fa38f5285af028af6d51f3991b6452bc8c7211b14e5e85906baa8fd3c32c66736fa65917e26831adfe38c07c98d3cb37ecbdedfcc838',\n",
       " 'xprivate_key': 'xprv9s21ZrQH143K4RtX1Maqe3rkquCsh1gBVS6gsQUjazSyXu5hVNzwux9XuD8G4YhmqZ2wWcu9oNm6K7iz646QfvbJKxUSrySTUbnsZEE9gCp',\n",
       " 'xpublic_key': 'xpub661MyMwAqRbcGuxz7P7r1BoVPw3N6UQ2rf2HfntM9KyxQhQr2vKCTkU1kTEJBAykBC2YZ49sFwd1CJVicgBb6Xk1TKEWcmT7LfECFPbQSLG',\n",
       " 'address': '13c9QX4iGVuLAB1kd6aZXiVQ1hJCcL8cki',\n",
       " 'wif': 'L2pggTc7UHHjTTALKKTtUhCmBnZ2ckGSeDqwEoZkzVgtbwL1hmXh',\n",
       " 'children': [{'private_key': 'b3eaa05389afec2893b0cd6bb61930f26e528df81d9db0d2a4936d08a06520c2',\n",
       "   'public_key': '04fb5d88c331562554b840fc2439b5630330918c37569ba4bfdc510d55ae9fc40755717576f6c8e8ccf984404ca6ab06222398586c3fe86f08ddae783dc99b6d82',\n",
       "   'xpublic_key': 'xpub686gdWi2w1kQrQahpxRJFVb3YW5Mg9nXtCQgowVkyxRMUgyHb8Y6vNqy5mnMz4Y17TXNT65X1vMufrcrdonUMRWyksdU3ULn3AvPwC4w9dh',\n",
       "   'xprivate_key': 'xprv9u7LE1B96eC7dvWEivtHtMeJzUEsGh4gWyV61Z69RctNbte93bDrNaXVEWD8Ue7PVw6GULPtt42iU3uJdG4jz95LtHp1sjbjjpVwadmnb1G',\n",
       "   'address': '1Ez3u2GhEcpxhmqBN6sc1NxpMzJoxvr5Wu',\n",
       "   'segwit': '3HoYS6ZjfhBvjPx4FrHBF48na7CWtXTraH',\n",
       "   'wif': 'L3FSmSzyc9ED6R4dMqCkTFvBebwqinisbigEx7dAb2kjdfc8eXMw',\n",
       "   'path': 'm/0',\n",
       "   'bip32_path': \"m/44'/0'/0'/0\",\n",
       "   'xpublic_key_prime': 'xpub686gdWi2w1kQrQahpxRJFVb3YW5Mg9nXtCQgowVkyxRMUgyHb8Y6vNqy5mnMz4Y17TXNT65X1vMufrcrdonUMRWyksdU3ULn3AvPwC4w9dh',\n",
       "   'xprivate_key_prime': 'xprv9u7LE1B96eC7dvWEivtHtMeJzUEsGh4gWyV61Z69RctNbte93bDrNaXVEWD8Ue7PVw6GULPtt42iU3uJdG4jz95LtHp1sjbjjpVwadmnb1G'}],\n",
       " 'segwit': '3QKuVAPGU1F8M3QiaET3pG2TXUnU46v4L6',\n",
       " 'xpublic_key_prime': 'xpub686gdWiBGgHP1j1nWEVuq4zecVGgY3CwUKEphKWBJT4tfg4xzrosZeEeK8uWszKtMRmbCyhuwq89DFtQW35wYdEDzjJUWJpbeiUnxBJWe5n',\n",
       " 'xprivate_key_prime': 'xprv9u7LE1BHSJj5oEwKQCxuTw3v4TSC8aV676KDtw6Zk7XunsjpTKVd1qvATqzW2E9qq7eM2fnTEcjUKxJfKjcVyx6QST74VHGFo2EiWU2Xvp1'}"
      ]
     },
     "execution_count": 15,
     "metadata": {},
     "output_type": "execute_result"
    }
   ],
   "source": [
    "from bipwallet import wallet\n",
    "# generate 12 word mnemonic seed\n",
    "#seed = wallet.generate_mnemonic()\n",
    "seed = \"smart quality can unlock toe anchor gather above monitor calm apart custom\"\n",
    "print(seed)# create bitcoin wallet\n",
    "w = wallet.create_wallet(network=\"BTC\", seed=seed, children=1)\n",
    "w\n",
    "#w['children'][5]['address']\n"
   ]
  },
  {
   "cell_type": "code",
   "execution_count": 12,
   "metadata": {},
   "outputs": [
    {
     "ename": "AttributeError",
     "evalue": "'NoneType' object has no attribute 'get_key'",
     "output_type": "error",
     "traceback": [
      "\u001b[0;31m---------------------------------------------------------------------------\u001b[0m",
      "\u001b[0;31mAttributeError\u001b[0m                            Traceback (most recent call last)",
      "\u001b[0;32m<ipython-input-12-29367812d56b>\u001b[0m in \u001b[0;36m<module>\u001b[0;34m\u001b[0m\n\u001b[1;32m      3\u001b[0m \u001b[0mx_pub\u001b[0m \u001b[0;34m=\u001b[0m \u001b[0;34m'xpub6EhQAmfw4qUfRNSdZGKBcvFavRzhaGysPTZ2JP6sBULXLEVuxEESLsTzHcLvaTFSPJcTzJMsshR7PmJXRFSd4o6t6SFX8ubZr8H4Esfyua6'\u001b[0m\u001b[0;34m\u001b[0m\u001b[0;34m\u001b[0m\u001b[0m\n\u001b[1;32m      4\u001b[0m \u001b[0;34m\u001b[0m\u001b[0m\n\u001b[0;32m----> 5\u001b[0;31m \u001b[0muser_addr\u001b[0m \u001b[0;34m=\u001b[0m \u001b[0mwallet\u001b[0m\u001b[0;34m.\u001b[0m\u001b[0mcreate_address\u001b[0m\u001b[0;34m(\u001b[0m\u001b[0mnetwork\u001b[0m\u001b[0;34m=\u001b[0m\u001b[0;34m\"BTC\"\u001b[0m\u001b[0;34m,\u001b[0m \u001b[0mxpub\u001b[0m\u001b[0;34m=\u001b[0m\u001b[0mx_pub\u001b[0m\u001b[0;34m,\u001b[0m \u001b[0mchild\u001b[0m\u001b[0;34m=\u001b[0m\u001b[0;36m1\u001b[0m\u001b[0;34m)\u001b[0m\u001b[0;34m\u001b[0m\u001b[0;34m\u001b[0m\u001b[0m\n\u001b[0m",
      "\u001b[0;32m/usr/local/lib/python3.7/dist-packages/bipwallet/wallet.py\u001b[0m in \u001b[0;36mcreate_address\u001b[0;34m(network, xpub, child, path)\u001b[0m\n\u001b[1;32m     61\u001b[0m         \u001b[0;34m\"address\"\u001b[0m\u001b[0;34m:\u001b[0m \u001b[0mchild_wallet\u001b[0m\u001b[0;34m.\u001b[0m\u001b[0mto_address\u001b[0m\u001b[0;34m(\u001b[0m\u001b[0;34m)\u001b[0m\u001b[0;34m,\u001b[0m\u001b[0;34m\u001b[0m\u001b[0;34m\u001b[0m\u001b[0m\n\u001b[1;32m     62\u001b[0m         \u001b[0;34m\"segwit\"\u001b[0m\u001b[0;34m:\u001b[0m \u001b[0mchild_wallet\u001b[0m\u001b[0;34m.\u001b[0m\u001b[0mto_segwit_address\u001b[0m\u001b[0;34m(\u001b[0m\u001b[0;34m)\u001b[0m\u001b[0;34m,\u001b[0m\u001b[0;34m\u001b[0m\u001b[0;34m\u001b[0m\u001b[0m\n\u001b[0;32m---> 63\u001b[0;31m         \u001b[0;34m\"private_key\"\u001b[0m\u001b[0;34m:\u001b[0m \u001b[0mchild_wallet\u001b[0m\u001b[0;34m.\u001b[0m\u001b[0mprivate_key\u001b[0m\u001b[0;34m.\u001b[0m\u001b[0mget_key\u001b[0m\u001b[0;34m(\u001b[0m\u001b[0;34m)\u001b[0m\u001b[0;34m.\u001b[0m\u001b[0mdecode\u001b[0m\u001b[0;34m(\u001b[0m\u001b[0;34m)\u001b[0m\u001b[0;34m,\u001b[0m\u001b[0;34m\u001b[0m\u001b[0;34m\u001b[0m\u001b[0m\n\u001b[0m\u001b[1;32m     64\u001b[0m         \u001b[0;34m\"public_key\"\u001b[0m\u001b[0;34m:\u001b[0m \u001b[0mchild_wallet\u001b[0m\u001b[0;34m.\u001b[0m\u001b[0mpublic_key\u001b[0m\u001b[0;34m.\u001b[0m\u001b[0mget_key\u001b[0m\u001b[0;34m(\u001b[0m\u001b[0;34m)\u001b[0m\u001b[0;34m.\u001b[0m\u001b[0mdecode\u001b[0m\u001b[0;34m(\u001b[0m\u001b[0;34m)\u001b[0m\u001b[0;34m,\u001b[0m\u001b[0;34m\u001b[0m\u001b[0;34m\u001b[0m\u001b[0m\n\u001b[1;32m     65\u001b[0m         \u001b[0;34m\"xpublic_key\"\u001b[0m\u001b[0;34m:\u001b[0m \u001b[0mchild_wallet\u001b[0m\u001b[0;34m.\u001b[0m\u001b[0mserialize_b58\u001b[0m\u001b[0;34m(\u001b[0m\u001b[0mprivate\u001b[0m\u001b[0;34m=\u001b[0m\u001b[0;32mFalse\u001b[0m\u001b[0;34m)\u001b[0m\u001b[0;34m,\u001b[0m\u001b[0;34m\u001b[0m\u001b[0;34m\u001b[0m\u001b[0m\n",
      "\u001b[0;31mAttributeError\u001b[0m: 'NoneType' object has no attribute 'get_key'"
     ]
    }
   ],
   "source": [
    "# from above..\n",
    "#x_pub = 'xpub661MyMwAqRbcGuxz7P7r1BoVPw3N6UQ2rf2HfntM9KyxQhQr2vKCTkU1kTEJBAykBC2YZ49sFwd1CJVicgBb6Xk1TKEWcmT7LfECFPbQSLG'\n",
    "x_pub = 'xpub6EhQAmfw4qUfRNSdZGKBcvFavRzhaGysPTZ2JP6sBULXLEVuxEESLsTzHcLvaTFSPJcTzJMsshR7PmJXRFSd4o6t6SFX8ubZr8H4Esfyua6'\n",
    "\n",
    "user_addr = wallet.create_address(network=\"BTC\",  xpub =x_pub ,child=1)"
   ]
  },
  {
   "cell_type": "code",
   "execution_count": null,
   "metadata": {},
   "outputs": [],
   "source": []
  }
 ],
 "metadata": {
  "kernelspec": {
   "display_name": "Python 3",
   "language": "python",
   "name": "python3"
  },
  "language_info": {
   "codemirror_mode": {
    "name": "ipython",
    "version": 3
   },
   "file_extension": ".py",
   "mimetype": "text/x-python",
   "name": "python",
   "nbconvert_exporter": "python",
   "pygments_lexer": "ipython3",
   "version": "3.7.9"
  }
 },
 "nbformat": 4,
 "nbformat_minor": 4
}
