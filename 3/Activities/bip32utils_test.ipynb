{
 "cells": [
  {
   "cell_type": "code",
   "execution_count": 3,
   "metadata": {},
   "outputs": [
    {
     "name": "stdout",
     "output_type": "stream",
     "text": [
      "{'Child_0': {'address': '15JKn4JdaaQTgV8KPdUgeoihA9v6bqBxdu',\n",
      "             'bip32_extended_private_key': 'xprvA3YnZTGjSY5GF6Ees5PU97tWcY6d1oPYmWQ1GcfqJzzaJ4NvyQ65apRfHcRLzWsnneXxCPNHDu4Tihw2GwMzg6WDAZmPiuoZ4c3L1XC48Mk',\n",
      "             'bip32_root_key': 'xprv9s21ZrQH143K4SMA4DQ5rfgmvteiZJecN7m1Zgz3RU5LE71F1sH4Zw6fA9yq2jXttCgxmz6ewDhuyLnCwfzpoAv5j6WeYwQS7Q1x9nqqFza',\n",
      "             'coin': 'BTC',\n",
      "             'mnemonic_words': 'smart quality can unlock toe anchor gather '\n",
      "                               'above monitor calm apart custom',\n",
      "             'path': \"m/44'/0'/0'/0\",\n",
      "             'privatekey': 'L3rvix1bWzzBbqJFzSv63S81PGCFAE2RsqFXDMSWABTeNhH9rVg6',\n",
      "             'publickey': '024916754b5bff63ff040b75d5acacdb26a7b5be8bb083c49455b9df0a7021a16a'},\n",
      " 'Child_1': {'address': '17811JoKJZydpg8fRoDsC7xTBL9jmS3oHf',\n",
      "             'bip32_extended_private_key': 'xprvA3YnZTGjSY5GJ5892FSj79Xft6kU8HkwrBsajn73iwKC3JkBmcCn9hj6dHct3UHejdr9f3aUNN5KbWuiFVMBZC9hgvSxCqQGfEFfmKwH85N',\n",
      "             'bip32_root_key': 'xprv9s21ZrQH143K4SMA4DQ5rfgmvteiZJecN7m1Zgz3RU5LE71F1sH4Zw6fA9yq2jXttCgxmz6ewDhuyLnCwfzpoAv5j6WeYwQS7Q1x9nqqFza',\n",
      "             'coin': 'BTC',\n",
      "             'mnemonic_words': 'smart quality can unlock toe anchor gather '\n",
      "                               'above monitor calm apart custom',\n",
      "             'path': \"m/44'/0'/0'/1\",\n",
      "             'privatekey': 'KzHGRA7VoVfg6unkxjbboWrPzp8RpGnQg2M1sJ1m2yF61P119xMQ',\n",
      "             'publickey': '03fd487d7e4232d0fa016164e7d47483553ae4fe90cadca42128e66a0fbc1c9f7f'},\n",
      " 'Child_2': {'address': '15RC4DJjmvDNLY7LHQoGL48StqEqsMcNaE',\n",
      "             'bip32_extended_private_key': 'xprvA3YnZTGjSY5GMUv8Wjt34mP6EyjvBPxuVefZrJU23EhWYDHP1K3kL4nw73uZRhi3j1uYGs8FPmbCLuWhtmYYh4breTcTAFQ2dfFU3GABVNj',\n",
      "             'bip32_root_key': 'xprv9s21ZrQH143K4SMA4DQ5rfgmvteiZJecN7m1Zgz3RU5LE71F1sH4Zw6fA9yq2jXttCgxmz6ewDhuyLnCwfzpoAv5j6WeYwQS7Q1x9nqqFza',\n",
      "             'coin': 'BTC',\n",
      "             'mnemonic_words': 'smart quality can unlock toe anchor gather '\n",
      "                               'above monitor calm apart custom',\n",
      "             'path': \"m/44'/0'/0'/2\",\n",
      "             'privatekey': 'L5hnXrgrNS4zumTEvsUykUYA3jJgWc7j1FvHeu8abCG4HLpyuV4b',\n",
      "             'publickey': '02335c053d5e05c7af40af299f501e6c7f9d367929f6fd0d7e2b6ebe4c09706c4f'}}\n"
     ]
    }
   ],
   "source": [
    "import pprint\n",
    "import binascii\n",
    "import mnemonic\n",
    "import bip32utils\n",
    "\n",
    "def bip39(mnemonic_words, children):\n",
    "    # mnemonic_words: 12 word mnemonic.\n",
    "    #children: positive integer for num of address desired.    \n",
    "    #FUTURE IMPLEMENT...\n",
    "    # choose coin\n",
    "    #- return main account information\n",
    "    #'''    \n",
    "    mobj = mnemonic.Mnemonic(\"english\")\n",
    "    seed = mobj.to_seed(mnemonic_words)    \n",
    "    holder = {}    \n",
    "    if children < 0:\n",
    "        raise ValueError('Children must be positive.')    \n",
    "    for child in range(children):        \n",
    "        bip32_root_key_obj = bip32utils.BIP32Key.fromEntropy(seed)\n",
    "        bip32_child_key_obj = bip32_root_key_obj.ChildKey(\n",
    "            44 + bip32utils.BIP32_HARDEN\n",
    "                ).ChildKey(\n",
    "                0 + bip32utils.BIP32_HARDEN\n",
    "                ).ChildKey(\n",
    "            0 + bip32utils.BIP32_HARDEN\n",
    "            ).ChildKey(0).ChildKey(child)        \n",
    "        template = {\n",
    "        'mnemonic_words': mnemonic_words,\n",
    "        'bip32_root_key': bip32_root_key_obj.ExtendedKey(),\n",
    "        'bip32_extended_private_key': bip32_child_key_obj.ExtendedKey(),\n",
    "        'path': f\"m/44'/0'/0'/{child}\",\n",
    "        'address': bip32_child_key_obj.Address(),\n",
    "        'publickey': binascii.hexlify(bip32_child_key_obj.PublicKey()).decode(),\n",
    "        'privatekey': bip32_child_key_obj.WalletImportFormat(),\n",
    "        'coin': 'BTC'\n",
    "        }        \n",
    "        holder[f'Child_{child}'] = template\n",
    "    return holder\n",
    "\n",
    "mnemonic_words = \"smart quality can unlock toe anchor gather above monitor calm apart custom\"\n",
    "children = 3\n",
    "pprint.pprint(bip39(mnemonic_words, children))"
   ]
  },
  {
   "cell_type": "code",
   "execution_count": null,
   "metadata": {},
   "outputs": [],
   "source": []
  }
 ],
 "metadata": {
  "kernelspec": {
   "display_name": "Python 3",
   "language": "python",
   "name": "python3"
  },
  "language_info": {
   "codemirror_mode": {
    "name": "ipython",
    "version": 3
   },
   "file_extension": ".py",
   "mimetype": "text/x-python",
   "name": "python",
   "nbconvert_exporter": "python",
   "pygments_lexer": "ipython3",
   "version": "3.7.9"
  }
 },
 "nbformat": 4,
 "nbformat_minor": 4
}
