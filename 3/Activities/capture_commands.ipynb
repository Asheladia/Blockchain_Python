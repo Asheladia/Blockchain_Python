{
 "cells": [
  {
   "cell_type": "code",
   "execution_count": 5,
   "metadata": {},
   "outputs": [
    {
     "name": "stdout",
     "output_type": "stream",
     "text": [
      "[{'path': \"m/44'/0'/0'/0/0\", 'address': '15JKn4JdaaQTgV8KPdUgeoihA9v6bqBxdu', 'privkey': 'L3rvix1bWzzBbqJFzSv63S81PGCFAE2RsqFXDMSWABTeNhH9rVg6', 'pubkey': '024916754b5bff63ff040b75d5acacdb26a7b5be8bb083c49455b9df0a7021a16a'}, {'path': \"m/44'/0'/0'/0/1\", 'address': '17811JoKJZydpg8fRoDsC7xTBL9jmS3oHf', 'privkey': 'KzHGRA7VoVfg6unkxjbboWrPzp8RpGnQg2M1sJ1m2yF61P119xMQ', 'pubkey': '03fd487d7e4232d0fa016164e7d47483553ae4fe90cadca42128e66a0fbc1c9f7f'}, {'path': \"m/44'/0'/0'/0/2\", 'address': '15RC4DJjmvDNLY7LHQoGL48StqEqsMcNaE', 'privkey': 'L5hnXrgrNS4zumTEvsUykUYA3jJgWc7j1FvHeu8abCG4HLpyuV4b', 'pubkey': '02335c053d5e05c7af40af299f501e6c7f9d367929f6fd0d7e2b6ebe4c09706c4f'}, {'path': \"m/44'/0'/0'/0/3\", 'address': '1Ba8RHR6m4ta9hQQpLV3wpGnLzVy7fUFR3', 'privkey': 'L25ikL5g2PwTwEZ2xBm6BqMh2SYwvChEQ1oQnL4LspdaqAwjhTYh', 'pubkey': '02df5dda4e9484b91b718f9e2925ef4ed15bfc2a40beeaa947fb893ccb053c16c4'}, {'path': \"m/44'/0'/0'/0/4\", 'address': '1PJkPGbBJjdd7FWSf7ovKpRq8sJqdZUJJc', 'privkey': 'Kze8iX5bxuWVZCD55c8stboKC7D6qXAyASmp9za1LFVRvWQpX37y', 'pubkey': '03eed1bb8fef7ce7bffdbbed237bbaeaa570f0f503fd2b8dcd23faa45c0f0f92d7'}, {'path': \"m/44'/0'/0'/0/5\", 'address': '1LPSS3jsFBsRyjcUpswaA1CTNsJmhY1EJn', 'privkey': 'L3Pt9SVvCD42ZeSk11pH55PB1mgG5TnsASrE4VPBrhaYGi1iW45k', 'pubkey': '026a155aa17f865fcabf4a9e2121be4fb1dfff0c0f39d19d030aad93c8ab1146ab'}, {'path': \"m/44'/0'/0'/0/6\", 'address': '15v8jUGCKm3rw1AySw7yNNAaQquRfExetM', 'privkey': 'L19kiJqStj1fsmr9aAVVRvhSDiwvMFKF9GSVbE2u5NtWAgJWwxTd', 'pubkey': '036797cab1b6ecb37326fa27126c8d92f8078d608578f372e06dbce7f402ad0b31'}, {'path': \"m/44'/0'/0'/0/7\", 'address': '1EjhHiXPPL8nyfzZTTjPkbHZzNN8bPduqq', 'privkey': 'L1Li84h5rzGKNDarGxhKkATPasyhQhWZfW8zbwJUTUH2YgC748hM', 'pubkey': '02c75fe0cdd440e9ce8fefc030f3cc7edc58f6634c24053011727f1499f6d110a7'}, {'path': \"m/44'/0'/0'/0/8\", 'address': '1H5nkmJKA1VCVqxBJqBjKmXJfgZmSBi5u4', 'privkey': 'L5FU2gBewY1fmq4FUHq9uRYsQqigyP3bt7xEhBGNsKxJrbEmoy1t', 'pubkey': '0285a4ffaf67d5bc8a095eafd527a95bd865a16141ba5a4315330f89c6758a4999'}, {'path': \"m/44'/0'/0'/0/9\", 'address': '14oNtPCzdV3hiknS9vTQpV6s2v7tZ9Xcr4', 'privkey': 'L4JskG1sMZLG232P3xxGEk8q2pb6zm1NfhrHrTf1Aj49ZGRYusTo', 'pubkey': '0218adfc1bc5e99db4665f5aa35eaec6142e06cf655166207e3e81a9dac9c0b6dc'}]\n"
     ]
    }
   ],
   "source": [
    "import subprocess\n",
    "import json\n",
    "\n",
    "command = ' /home/jwales/bootcamp/crypto_stuff/hd-wallet-derive/hd-wallet-derive.php --mnemonic=\"smart quality can unlock toe anchor gather above monitor calm apart custom\" --cols=path,address,privkey,pubkey -g --format=json'\n",
    "\n",
    "p = subprocess.Popen(command, stdout=subprocess.PIPE, shell=True)\n",
    "(output, err) = p.communicate()\n",
    "p_status = p.wait()\n",
    "\n",
    "\n",
    "keys=json.loads(output)\n",
    "print(keys)\n"
   ]
  },
  {
   "cell_type": "code",
   "execution_count": 8,
   "metadata": {},
   "outputs": [
    {
     "data": {
      "text/plain": [
       "\"m/44'/0'/0'/0/0\""
      ]
     },
     "execution_count": 8,
     "metadata": {},
     "output_type": "execute_result"
    }
   ],
   "source": [
    "keys[0]['path']"
   ]
  },
  {
   "cell_type": "code",
   "execution_count": null,
   "metadata": {},
   "outputs": [],
   "source": []
  }
 ],
 "metadata": {
  "kernelspec": {
   "display_name": "Python 3",
   "language": "python",
   "name": "python3"
  },
  "language_info": {
   "codemirror_mode": {
    "name": "ipython",
    "version": 3
   },
   "file_extension": ".py",
   "mimetype": "text/x-python",
   "name": "python",
   "nbconvert_exporter": "python",
   "pygments_lexer": "ipython3",
   "version": "3.7.9"
  }
 },
 "nbformat": 4,
 "nbformat_minor": 4
}
